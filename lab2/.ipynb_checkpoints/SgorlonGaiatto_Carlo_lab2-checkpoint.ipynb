{
 "cells": [
  {
   "cell_type": "markdown",
   "metadata": {},
   "source": [
    "# Kuzushiji Classification with Support Vector Machines\n",
    "\n",
    "In this notebook we are going to explore the use of Support Vector Machines (SVM) for image classification. We will use a variant of the famous MNIST dataset (the original is a dataset of handwritten digits). The version we are going to use is called Kuzushiji-MNIST or K-MNIST for short (https://github.com/rois-codh/kmnist) and is a dataset of traditional japanese handwritten kana.\n",
    "\n",
    "\n",
    "\n",
    "The dataset labels are the following:\n",
    "\n",
    "| Label | Hiragana Character | Romanji (Pronunciation) |\n",
    "| :-: | :-: | :-: |\n",
    "|   0   | お | o |\n",
    "| 1 | き | ki |\n",
    "| 2 | す | su |\n",
    "| 3 | つ | tsu |\n",
    "| 4 | な | na |\n",
    "| 5 | は | ha |\n",
    "| 6 | ま | ma |\n",
    "| 7 | や | ya |\n",
    "| 8 | れ | re |\n",
    "| 9 | を | wo |"
   ]
  },
  {
   "cell_type": "markdown",
   "metadata": {},
   "source": [
    "## TODO: Insert your surname, name and ID number\n",
    "\n",
    "Student surname: Sgorlon Gaiatto\n",
    "\n",
    "Student name: Carlo\n",
    "    \n",
    "ID: 2044719"
   ]
  },
  {
   "cell_type": "code",
   "execution_count": 1,
   "metadata": {},
   "outputs": [],
   "source": [
    "#load the required packages\n",
    "\n",
    "%matplotlib inline  \n",
    "\n",
    "import numpy as np\n",
    "import scipy as sp\n",
    "import pandas as pd\n",
    "import matplotlib.pyplot as plt\n",
    "\n",
    "import sklearn\n",
    "from sklearn.datasets import fetch_openml\n",
    "from sklearn.neural_network import MLPClassifier\n",
    "from sklearn.decomposition import PCA\n",
    "import sklearn.metrics as skm"
   ]
  },
  {
   "cell_type": "code",
   "execution_count": 2,
   "metadata": {},
   "outputs": [],
   "source": [
    "# helper function to load Kuzushiji-MNIST dataset\n",
    "def load_mnist(path, kind='train'):\n",
    "    import os\n",
    "    import gzip\n",
    "    import numpy as np\n",
    "    labels_path = os.path.join(path, 'K%s-labels-idx1-ubyte.gz' % kind)\n",
    "    images_path = os.path.join(path, 'K%s-images-idx3-ubyte.gz' % kind)\n",
    "    with gzip.open(labels_path, 'rb') as lbpath:\n",
    "        labels = np.frombuffer(lbpath.read(), dtype=np.uint8,offset=8)\n",
    "    with gzip.open(images_path, 'rb') as imgpath:\n",
    "        images = np.frombuffer(imgpath.read(), dtype=np.uint8,offset=16).reshape(len(labels), 784)\n",
    "    return images, labels"
   ]
  },
  {
   "cell_type": "code",
   "execution_count": 3,
   "metadata": {},
   "outputs": [],
   "source": [
    "#fix your ID (\"numero di matricola\") and the seed for random generator (as usual you can try different seeds)\n",
    "ID = 2053854 # place a random seed\n",
    "np.random.seed(ID)"
   ]
  },
  {
   "cell_type": "code",
   "execution_count": 4,
   "metadata": {},
   "outputs": [
    {
     "name": "stdout",
     "output_type": "stream",
     "text": [
      "(60000, 784) (60000,)\n"
     ]
    }
   ],
   "source": [
    "#load the K-MNIST dataset from the 'data' folder and let's normalize the features so that each value is in [0,1] \n",
    "\n",
    "X, y = load_mnist('data', kind='train')\n",
    "# rescale the data\n",
    "X, y = X / 255., y # original pixel values are between 0 and 255\n",
    "print(X.shape, y.shape)"
   ]
  },
  {
   "cell_type": "markdown",
   "metadata": {},
   "source": [
    "Now split into training and test. Make sure that each label is present at least 10 times\n",
    "in training. If it is not, then keep adding permutations to the initial data until this \n",
    "happens."
   ]
  },
  {
   "cell_type": "code",
   "execution_count": 5,
   "metadata": {},
   "outputs": [
    {
     "name": "stdout",
     "output_type": "stream",
     "text": [
      "Labels in training dataset: [0 1 2 3 4 5 6 7 8 9]\n",
      "Frequencies in training dataset: [56 57 47 66 62 62 69 69 56 56]\n"
     ]
    }
   ],
   "source": [
    "# Random permute the data and split into training and test taking the first 600\n",
    "# data samples as training and 4000 samples as test\n",
    "permutation = np.random.permutation(X.shape[0])\n",
    "\n",
    "X = X[permutation]\n",
    "y = y[permutation]\n",
    "\n",
    "m_training = 600\n",
    "m_test = 4000\n",
    "\n",
    "X_train, X_test = X[:m_training], X[m_training:m_training+m_test]\n",
    "y_train, y_test = y[:m_training], y[m_training:m_training+m_test]\n",
    "\n",
    "labels, freqs = np.unique(y_train, return_counts=True)\n",
    "print(\"Labels in training dataset:\", labels)\n",
    "print(\"Frequencies in training dataset:\", freqs)\n",
    "\n",
    "# check if y_train contains at least 10 elements of each classe\n",
    "if np.any(freqs < 10):\n",
    "    raise ValueError(\"A bad training set has been generated\")"
   ]
  },
  {
   "cell_type": "code",
   "execution_count": 6,
   "metadata": {},
   "outputs": [],
   "source": [
    "#function for plotting a image and printing the corresponding label\n",
    "def plot_input(X_matrix, labels, index):\n",
    "    print(\"\\nINPUT:\")\n",
    "    plt.imshow(\n",
    "        X_matrix[index].reshape(28,28),\n",
    "        cmap          = plt.cm.gray_r,\n",
    "        interpolation = \"nearest\"\n",
    "        )\n",
    "    plt.show()\n",
    "    print(\"LABEL: %i\"%labels[index])\n",
    "    return"
   ]
  },
  {
   "cell_type": "code",
   "execution_count": 7,
   "metadata": {},
   "outputs": [
    {
     "name": "stdout",
     "output_type": "stream",
     "text": [
      "\n",
      "INPUT:\n"
     ]
    },
    {
     "data": {
      "image/png": "[encoded data removed]",
      "text/plain": [
       "<Figure size 432x288 with 1 Axes>"
      ]
     },
     "metadata": {
      "needs_background": "light"
     },
     "output_type": "display_data"
    },
    {
     "name": "stdout",
     "output_type": "stream",
     "text": [
      "LABEL: 7\n",
      "\n",
      "INPUT:\n"
     ]
    },
    {
     "data": {
      "image/png": "[encoded data removed]",
      "text/plain": [
       "<Figure size 432x288 with 1 Axes>"
      ]
     },
     "metadata": {
      "needs_background": "light"
     },
     "output_type": "display_data"
    },
    {
     "name": "stdout",
     "output_type": "stream",
     "text": [
      "LABEL: 9\n",
      "\n",
      "INPUT:\n"
     ]
    },
    {
     "data": {
      "image/png": "[encoded data removed]",
      "text/plain": [
       "<Figure size 432x288 with 1 Axes>"
      ]
     },
     "metadata": {
      "needs_background": "light"
     },
     "output_type": "display_data"
    },
    {
     "name": "stdout",
     "output_type": "stream",
     "text": [
      "LABEL: 5\n",
      "\n",
      "INPUT:\n"
     ]
    },
    {
     "data": {
      "image/png": "[encoded data removed]",
      "text/plain": [
       "<Figure size 432x288 with 1 Axes>"
      ]
     },
     "metadata": {
      "needs_background": "light"
     },
     "output_type": "display_data"
    },
    {
     "name": "stdout",
     "output_type": "stream",
     "text": [
      "LABEL: 2\n"
     ]
    }
   ],
   "source": [
    "#let's try the plotting function\n",
    "plot_input(X_train,y_train,5)\n",
    "plot_input(X_test,y_test,50)\n",
    "plot_input(X_test,y_test,500)\n",
    "plot_input(X_test,y_test,700)"
   ]
  },
  {
   "cell_type": "markdown",
   "metadata": {},
   "source": [
    "## TO DO 1\n",
    "Use a SVM classifier with cross validation to pick a model. Use a 4-fold cross-validation. Let's start with a Linear kernel:"
   ]
  },
  {
   "cell_type": "code",
   "execution_count": 8,
   "metadata": {},
   "outputs": [
    {
     "name": "stdout",
     "output_type": "stream",
     "text": [
      "RESULTS FOR LINEAR KERNEL\n",
      "\n",
      "Best parameters set found:\n",
      "{'C': 0.01}\n",
      "\n",
      "Score with best parameters:\n",
      "0.7333333333333334\n",
      "\n",
      "All scores on the grid:\n",
      "        params  mean_test_score\n",
      "0  {'C': 0.01}         0.733333\n",
      "1   {'C': 0.1}         0.720000\n",
      "2     {'C': 1}         0.720000\n",
      "3    {'C': 10}         0.720000\n"
     ]
    }
   ],
   "source": [
    "#import SVC\n",
    "from sklearn.svm import SVC\n",
    "#import for Cross-Validation\n",
    "from sklearn.model_selection import GridSearchCV\n",
    "\n",
    "# parameters for linear SVM\n",
    "parameters = {'C': [0.01, 0.1, 1, 10]}\n",
    "\n",
    "#train linear SVM\n",
    "\n",
    "# ADD YOUR CODE\n",
    "svc = SVC(kernel='linear')\n",
    "clf = GridSearchCV(svc, parameters, cv=4)\n",
    "clf.fit(X_train, y_train)\n",
    "\n",
    "#print(pd.DataFrame(clf.cv_results_))\n",
    "\n",
    "print ('RESULTS FOR LINEAR KERNEL')\n",
    "\n",
    "print(\"\\nBest parameters set found:\")\n",
    "# ADD YOUR CODE\n",
    "print(clf.best_params_)\n",
    "\n",
    "print(\"\\nScore with best parameters:\")\n",
    "# ADD YOUR CODE\n",
    "print(clf.best_score_)\n",
    "\n",
    "print(\"\\nAll scores on the grid:\")\n",
    "# ADD YOUR CODE\n",
    "grid_scores = {'params': clf.cv_results_['params'], 'mean_test_score': clf.cv_results_['mean_test_score']}\n",
    "print(pd.DataFrame(grid_scores))"
   ]
  },
  {
   "cell_type": "markdown",
   "metadata": {},
   "source": [
    "## TO DO 2\n",
    "Pick a model for the Polynomial kernel with degree=2:"
   ]
  },
  {
   "cell_type": "code",
   "execution_count": 9,
   "metadata": {},
   "outputs": [
    {
     "name": "stdout",
     "output_type": "stream",
     "text": [
      "RESULTS FOR POLY DEGREE=2 KERNEL\n",
      "\n",
      "Best parameters set found:\n",
      "{'C': 0.1, 'gamma': 0.1}\n",
      "\n",
      "Score with best parameters:\n",
      "0.7683333333333333\n",
      "\n",
      "All scores on the grid:\n",
      "                       params  mean_test_score\n",
      "0  {'C': 0.01, 'gamma': 0.01}         0.156667\n",
      "1   {'C': 0.01, 'gamma': 0.1}         0.746667\n",
      "2     {'C': 0.01, 'gamma': 1}         0.763333\n",
      "3   {'C': 0.1, 'gamma': 0.01}         0.713333\n",
      "4    {'C': 0.1, 'gamma': 0.1}         0.768333\n",
      "5      {'C': 0.1, 'gamma': 1}         0.763333\n",
      "6     {'C': 1, 'gamma': 0.01}         0.745000\n",
      "7      {'C': 1, 'gamma': 0.1}         0.768333\n",
      "8        {'C': 1, 'gamma': 1}         0.763333\n"
     ]
    }
   ],
   "source": [
    "# parameters for poly with degree 2 kernel\n",
    "parameters = {'C': [0.01, 0.1, 1],'gamma':[0.01, 0.1, 1]}\n",
    "\n",
    "#run SVM with poly of degree 2 kernel\n",
    "\n",
    "# ADD YOUR CODE\n",
    "svc = SVC(kernel='poly', degree=2, coef0=1)\n",
    "clf = GridSearchCV(svc, parameters, cv=4)\n",
    "clf.fit(X_train, y_train)\n",
    "\n",
    "#print(pd.DataFrame(clf.cv_results_))\n",
    "\n",
    "print ('RESULTS FOR POLY DEGREE=2 KERNEL')\n",
    "\n",
    "print(\"\\nBest parameters set found:\")\n",
    "# ADD YOUR CODE\n",
    "print(clf.best_params_)\n",
    "\n",
    "print(\"\\nScore with best parameters:\")\n",
    "# ADD YOUR CODE\n",
    "print(clf.best_score_)\n",
    "\n",
    "print(\"\\nAll scores on the grid:\")\n",
    "# ADD YOUR CODE\n",
    "grid_scores = {'params': clf.cv_results_['params'], 'mean_test_score': clf.cv_results_['mean_test_score']}\n",
    "print(pd.DataFrame(grid_scores))"
   ]
  },
  {
   "cell_type": "markdown",
   "metadata": {},
   "source": [
    "## TO DO 3\n",
    "\n",
    "Now let's try a higher degree for the polynomial kernel (e.g., 3rd degree)."
   ]
  },
  {
   "cell_type": "code",
   "execution_count": 10,
   "metadata": {},
   "outputs": [
    {
     "name": "stdout",
     "output_type": "stream",
     "text": [
      "RESULTS FOR POLY DEGREE=3 KERNEL\n",
      "\n",
      "Best parameters set found:\n",
      "{'C': 1, 'gamma': 0.01}\n",
      "\n",
      "Score with best parameters:\n",
      "0.7633333333333333\n",
      "\n",
      "All scores on the grid:\n",
      "                       params  mean_test_score\n",
      "0  {'C': 0.01, 'gamma': 0.01}         0.398333\n",
      "1   {'C': 0.01, 'gamma': 0.1}         0.748333\n",
      "2     {'C': 0.01, 'gamma': 1}         0.728333\n",
      "3   {'C': 0.1, 'gamma': 0.01}         0.738333\n",
      "4    {'C': 0.1, 'gamma': 0.1}         0.748333\n",
      "5      {'C': 0.1, 'gamma': 1}         0.728333\n",
      "6     {'C': 1, 'gamma': 0.01}         0.763333\n",
      "7      {'C': 1, 'gamma': 0.1}         0.748333\n",
      "8        {'C': 1, 'gamma': 1}         0.728333\n"
     ]
    }
   ],
   "source": [
    "# parameters for poly with higher degree kernel\n",
    "parameters = {'C': [0.01, 0.1, 1],'gamma':[0.01, 0.1, 1]}\n",
    "\n",
    "#run SVM with poly of higher degree kernel\n",
    "\n",
    "# ADD YOUR CODE\n",
    "degree = 3\n",
    "svc = SVC(kernel='poly', degree=degree, coef0=1)\n",
    "clf = GridSearchCV(svc, parameters, cv=4)\n",
    "clf.fit(X_train, y_train)\n",
    "\n",
    "#print(pd.DataFrame(clf.cv_results_))\n",
    "\n",
    "print ('RESULTS FOR POLY DEGREE={} KERNEL'.format(degree))\n",
    "\n",
    "print(\"\\nBest parameters set found:\")\n",
    "# ADD YOUR CODE\n",
    "print(clf.best_params_)\n",
    "\n",
    "print(\"\\nScore with best parameters:\")\n",
    "# ADD YOUR CODE\n",
    "print(clf.best_score_)\n",
    "\n",
    "print(\"\\nAll scores on the grid:\")\n",
    "# ADD YOUR CODE\n",
    "grid_scores = {'params': clf.cv_results_['params'], 'mean_test_score': clf.cv_results_['mean_test_score']}\n",
    "print(pd.DataFrame(grid_scores))"
   ]
  },
  {
   "cell_type": "markdown",
   "metadata": {},
   "source": [
    "## TO DO 4\n",
    "Pick a model for the Radial Basis Function kernel:"
   ]
  },
  {
   "cell_type": "code",
   "execution_count": 11,
   "metadata": {},
   "outputs": [
    {
     "name": "stdout",
     "output_type": "stream",
     "text": [
      "RESULTS FOR rbf KERNEL\n",
      "\n",
      "Best parameters set found:\n",
      "{'C': 10, 'gamma': 0.01}\n",
      "\n",
      "Score with best parameters:\n",
      "0.7883333333333333\n",
      "\n",
      "All scores on the grid:\n",
      "                        params  mean_test_score\n",
      "0   {'C': 0.1, 'gamma': 0.001}         0.160000\n",
      "1    {'C': 0.1, 'gamma': 0.01}         0.210000\n",
      "2     {'C': 0.1, 'gamma': 0.1}         0.120000\n",
      "3       {'C': 0.1, 'gamma': 1}         0.116667\n",
      "4     {'C': 1, 'gamma': 0.001}         0.628333\n",
      "5      {'C': 1, 'gamma': 0.01}         0.770000\n",
      "6       {'C': 1, 'gamma': 0.1}         0.166667\n",
      "7         {'C': 1, 'gamma': 1}         0.116667\n",
      "8    {'C': 10, 'gamma': 0.001}         0.736667\n",
      "9     {'C': 10, 'gamma': 0.01}         0.788333\n",
      "10     {'C': 10, 'gamma': 0.1}         0.181667\n",
      "11       {'C': 10, 'gamma': 1}         0.118333\n",
      "12  {'C': 100, 'gamma': 0.001}         0.731667\n",
      "13   {'C': 100, 'gamma': 0.01}         0.788333\n",
      "14    {'C': 100, 'gamma': 0.1}         0.181667\n",
      "15      {'C': 100, 'gamma': 1}         0.118333\n"
     ]
    }
   ],
   "source": [
    "# parameters for rbf SVM\n",
    "parameters = {'C': [0.1, 1, 10, 100],'gamma':[0.001, 0.01, 0.1, 1]}\n",
    "\n",
    "#run SVM with rbf kernel\n",
    "\n",
    "# ADD YOUR CODE\n",
    "svc = SVC(kernel='rbf')\n",
    "clf = GridSearchCV(svc, parameters, cv=4)\n",
    "clf.fit(X_train, y_train)\n",
    "\n",
    "#print(pd.DataFrame(clf.cv_results_))\n",
    "\n",
    "print ('RESULTS FOR rbf KERNEL')\n",
    "\n",
    "print(\"\\nBest parameters set found:\")\n",
    "# ADD YOUR CODE\n",
    "print(clf.best_params_)\n",
    "\n",
    "print(\"\\nScore with best parameters:\")\n",
    "# ADD YOUR CODE\n",
    "print(clf.best_score_)\n",
    "\n",
    "print(\"\\nAll scores on the grid:\")\n",
    "# ADD YOUR CODE\n",
    "grid_scores = {'params': clf.cv_results_['params'], 'mean_test_score': clf.cv_results_['mean_test_score']}\n",
    "print(pd.DataFrame(grid_scores))"
   ]
  },
  {
   "cell_type": "markdown",
   "metadata": {},
   "source": [
    "## QUESTION 1\n",
    "What do you observe when using linear, polynomial and RBF kernels on this dataset ?\n",
    "\n",
    "## ANSWER QUESTION 1\n",
    "\n",
    "#### Linear Kernel\n",
    "The best score corresponds to the smallest value for the parameter C, i.e. the largest lambda, which means that the best parameter is obtained by focusing on the margin instead of avoiding errors.\n",
    "\n",
    "#### Polynomial Kernel degree 2\n",
    "Again, the best score is obtained by weighting the margin more and is slightly better than that of the linear kernel.\n",
    "\n",
    "#### Polynomial Kernel degree 3 and higher\n",
    "In this case the best score corresponds to the largest value for the parameter C, i.e. the smallest lambda, which means that the best model is obtained by focusing on avoiding errors. However, the score is worse than that of the polynomial kernel of degree 2, and the increase in degree seems to correlate with a negative trend in score.\n",
    "\n",
    "#### RBF Kernel\n",
    "The Gaussian kernel with the largest value for the parameter C, which corresponds to weighting avoiding errors more, leads to the best score compared to the other kernels.\n",
    "\n",
    "gamma?"
   ]
  },
  {
   "cell_type": "markdown",
   "metadata": {},
   "source": [
    "## TO DO 5\n",
    "Report here the best SVM kernel and parameters"
   ]
  },
  {
   "cell_type": "code",
   "execution_count": 12,
   "metadata": {},
   "outputs": [
    {
     "name": "stdout",
     "output_type": "stream",
     "text": [
      "Misclassified samples on training set: 0\n",
      "Best SVM training error: 0.000000\n",
      "Best SVM test error: 0.177750\n"
     ]
    }
   ],
   "source": [
    "# get training and test error for the best SVM model from CV\n",
    "best_SVM = SVC(C=10, kernel='rbf', gamma=0.01)\n",
    "best_SVM.fit(X_train, y_train)\n",
    "\n",
    "# check\n",
    "y_predict = best_SVM.predict(X_train)\n",
    "num_misclassified = 0\n",
    "for i in range(y_train.shape[0]):\n",
    "    if y_train[i] != y_predict[i]:\n",
    "        num_misclassified += 1\n",
    "print(\"Misclassified samples on training set:\", num_misclassified)\n",
    "\n",
    "# ADD YOUR CODE\n",
    "training_error = 1 - best_SVM.score(X_train, y_train)\n",
    "test_error = 1 - best_SVM.score(X_test, y_test)\n",
    "\n",
    "print (\"Best SVM training error: %f\" % training_error)\n",
    "print (\"Best SVM test error: %f\" % test_error)"
   ]
  },
  {
   "cell_type": "markdown",
   "metadata": {},
   "source": [
    "## TO DO 6\n",
    "\n",
    "Analyze how the gamma parameter (inversely proportional to standard deviation of Gaussian Kernel) impact the performances of the classifier"
   ]
  },
  {
   "cell_type": "code",
   "execution_count": 13,
   "metadata": {},
   "outputs": [
    {
     "name": "stdout",
     "output_type": "stream",
     "text": [
      "[1.e-05 1.e-04 1.e-03 1.e-02 1.e-01 1.e+00 1.e+01 1.e+02]\n"
     ]
    }
   ],
   "source": [
    "#Test with different values of gamma\n",
    "\n",
    "# Set gamma values\n",
    "gamma_values = np.logspace(-5,2,8)\n",
    "print(gamma_values)\n"
   ]
  },
  {
   "cell_type": "code",
   "execution_count": 14,
   "metadata": {},
   "outputs": [
    {
     "data": {
      "image/png": "[encoded data removed]",
      "text/plain": [
       "<Figure size 1080x360 with 2 Axes>"
      ]
     },
     "metadata": {
      "needs_background": "light"
     },
     "output_type": "display_data"
    }
   ],
   "source": [
    "# Try the SVM with the previously set values of gamma\n",
    "# use rbf kernel and C=1\n",
    "\n",
    "train_acc_list, test_acc_list = [], []\n",
    "    \n",
    "# ADD YOUR CODE TO TRAIN THE SVM MULTIPLE TIMES WITH THE DIFFERENT VALUES OF GAMMA\n",
    "# PLACE THE TRAIN AND TEST ACCURACY FOR EACH TEST IN THE TRAIN AND TEST ACCURACY LISTS\n",
    "for i in gamma_values:    \n",
    "    svc = SVC(C=1, kernel='rbf', gamma=i)\n",
    "    svc.fit(X_train, y_train)\n",
    "    train_acc_list.append(svc.score(X_train, y_train))\n",
    "    test_acc_list.append(svc.score(X_test, y_test))\n",
    "\n",
    "# Plot\n",
    "fig, ax = plt.subplots(1,2, figsize=(15,5))\n",
    "\n",
    "ax[0].plot(gamma_values, train_acc_list)\n",
    "ax[0].set_xscale('log')\n",
    "ax[0].set_xlabel('gamma')\n",
    "ax[0].set_ylabel('Train accuracy')\n",
    "ax[0].grid(True)\n",
    "\n",
    "ax[1].plot(gamma_values, test_acc_list)\n",
    "ax[1].set_xscale('log')\n",
    "ax[1].set_xlabel('gamma')\n",
    "ax[1].set_ylabel('Test accuracy')\n",
    "ax[1].grid(True)\n",
    "\n",
    "\n",
    "plt.show()"
   ]
  },
  {
   "cell_type": "markdown",
   "metadata": {},
   "source": [
    "## QUESTION 2\n",
    "How do the train and test error change when changing gamma ? Which is the best value of gamma ? \n",
    "Connect your answers to the discussion about the overfitting issue.\n",
    "\n",
    "## ANSWER QUESTION 2\n",
    "The train accuracy (error) increases (decreases) monotonically as gamma increases while the test accuracy (error) increases (decreases) up to gamma = 0.01 and then drops (rises) rapidly. The trade off between train and test accuracy leads to choose gamma = 0.01 as the best value.\n",
    "\n",
    "under/overfitting?\n",
    "\n",
    "From [doc](https://scikit-learn.org/stable/auto_examples/svm/plot_rbf_parameters.html):\n",
    ">Intuitively, the gamma parameter defines how far the influence of a single training example reaches, with low values meaning ‘far’ and high values meaning ‘close’. The gamma parameters can be seen as the inverse of the radius of influence of samples selected by the model as support vectors. If gamma is too large, the radius of the area of influence of the support vectors only includes the support vector itself and no amount of regularization with C will be able to prevent overfitting. "
   ]
  },
  {
   "cell_type": "markdown",
   "metadata": {},
   "source": [
    "## More data\n",
    "Now let's do the same but using more data points for training.\n",
    "\n",
    "\n",
    "Choose a new number of data points."
   ]
  },
  {
   "cell_type": "code",
   "execution_count": 15,
   "metadata": {},
   "outputs": [
    {
     "name": "stdout",
     "output_type": "stream",
     "text": [
      "Labels in training dataset:  [0 1 2 3 4 5 6 7 8 9]\n",
      "Frequencies in training dataset:  [198 201 183 209 187 220 180 222 217 183]\n"
     ]
    }
   ],
   "source": [
    "X = X[permutation]\n",
    "y = y[permutation]\n",
    "\n",
    "m_training = 2000 # TODO number of data points, adjust depending on the capabilities of your PC\n",
    "\n",
    "X_train, X_test = X[:m_training], X[m_training:]\n",
    "y_train, y_test = y[:m_training], y[m_training:]\n",
    "\n",
    "labels, freqs = np.unique(y_train, return_counts=True)\n",
    "print(\"Labels in training dataset: \", labels)\n",
    "print(\"Frequencies in training dataset: \", freqs)\n",
    "\n",
    "# check if y_train contains at least 10 elements of each classe\n",
    "if np.any(freqs < 10):\n",
    "    raise ValueError(\"A bad training set has been generated\")"
   ]
  },
  {
   "cell_type": "markdown",
   "metadata": {},
   "source": [
    "## TO DO 7\n",
    "\n",
    "Let's try to use SVM with parameters obtained from the best model for $m_{training} =  2000$. Since it may take a long time to run, you can decide to just let it run for some time and stop it if it does not complete. If you decide to do this, report it in the cell below."
   ]
  },
  {
   "cell_type": "code",
   "execution_count": 16,
   "metadata": {
    "scrolled": true
   },
   "outputs": [
    {
     "name": "stdout",
     "output_type": "stream",
     "text": [
      "Misclassified samples on training set: 0\n",
      "Best SVM training error: 0.000000\n",
      "Best SVM test error: 0.118483\n"
     ]
    }
   ],
   "source": [
    "# get training and test error for the best SVM model from CV\n",
    "best_SVM = SVC(C=10, kernel='rbf', gamma=0.01)\n",
    "best_SVM.fit(X_train, y_train)\n",
    "\n",
    "# check\n",
    "y_prediction = best_SVM.predict(X_train)\n",
    "num_misclassified = 0\n",
    "for i in range(y_train.shape[0]):\n",
    "    if y_train[i] != y_prediction[i]:\n",
    "        num_misclassified += 1\n",
    "print(\"Misclassified samples on training set:\", num_misclassified)\n",
    "\n",
    "# ADD YOUR CODE\n",
    "training_error = 1 - best_SVM.score(X_train, y_train)\n",
    "test_error = 1 - best_SVM.score(X_test, y_test)\n",
    "\n",
    "print (\"Best SVM training error: %f\" % training_error)\n",
    "print (\"Best SVM test error: %f\" % test_error)"
   ]
  },
  {
   "cell_type": "markdown",
   "metadata": {},
   "source": [
    "Just for comparison, let's also use logistic regression \n",
    "\n",
    "## TO DO 8 Try first without regularization (use a very large large C)¶"
   ]
  },
  {
   "cell_type": "code",
   "execution_count": 17,
   "metadata": {},
   "outputs": [
    {
     "name": "stdout",
     "output_type": "stream",
     "text": [
      "Best logistic regression training error: 0.000000\n",
      "Best logistic regression test error: 0.285121\n"
     ]
    }
   ],
   "source": [
    "from sklearn import linear_model\n",
    "\n",
    "# ADD YOUR CODE\n",
    "logreg = linear_model.LogisticRegression(C=1e5, max_iter=500)\n",
    "logreg.fit(X_train,y_train)\n",
    "\n",
    "training_error = 1 - logreg.score(X_train,y_train)\n",
    "test_error = 1-logreg.score(X_test,y_test)\n",
    "\n",
    "print (\"Best logistic regression training error: %f\" % training_error)\n",
    "print (\"Best logistic regression test error: %f\" % test_error)"
   ]
  },
  {
   "cell_type": "markdown",
   "metadata": {},
   "source": [
    "## TO DO 9 Try  with regularization (use C=1)¶"
   ]
  },
  {
   "cell_type": "code",
   "execution_count": 18,
   "metadata": {},
   "outputs": [
    {
     "name": "stdout",
     "output_type": "stream",
     "text": [
      "Best regularized logistic regression training error: 0.002500\n",
      "Best regularized logistic regression test error: 0.258862\n"
     ]
    }
   ],
   "source": [
    "# ADD YOUR CODE\n",
    "logreg = linear_model.LogisticRegression(C=1, max_iter=500)\n",
    "logreg.fit(X_train,y_train)\n",
    "\n",
    "training_error = 1 - logreg.score(X_train,y_train)\n",
    "test_error = 1-logreg.score(X_test,y_test)\n",
    "\n",
    "print (\"Best regularized logistic regression training error: %f\" % training_error)\n",
    "print (\"Best regularized logistic regression test error: %f\" % test_error)"
   ]
  },
  {
   "cell_type": "markdown",
   "metadata": {},
   "source": [
    "## QUESTION 3\n",
    "Compare and discuss:\n",
    "- the results from SVM with m=600 and with m=2000 training data points. If you stopped the SVM, include such aspect in your comparison.\n",
    "- the results of SVM and of Logistic Regression\n",
    "\n",
    "## ANSWER QUESTION 3\n",
    "1) The test error of SVM with m = 2000 is smaller of that with m = 200, i.e., with a larger training set the SVM accuracy on the test set is bigger.\n",
    "\n",
    "2) The accuracy of the SVM is better than the one of Logistic Regression. However, it is interesting to note that in the case of Logistic Regression the error decreases if we introduce a regularization parameter C = 1.\n",
    "\n",
    "(explain: lower C means more regularization, thus lower risk of overfitting)?"
   ]
  },
  {
   "cell_type": "markdown",
   "metadata": {},
   "source": [
    "## TO DO 10\n",
    "Plot an item of clothing that is missclassified by logistic regression and correctly classified by SVM."
   ]
  },
  {
   "cell_type": "code",
   "execution_count": 19,
   "metadata": {},
   "outputs": [
    {
     "name": "stdout",
     "output_type": "stream",
     "text": [
      "Logistic Regression prediction: 4\n",
      "SVM prediction: 0\n",
      "\n",
      "INPUT:\n"
     ]
    },
    {
     "data": {
      "image/png": "[encoded data removed]",
      "text/plain": [
       "<Figure size 432x288 with 1 Axes>"
      ]
     },
     "metadata": {
      "needs_background": "light"
     },
     "output_type": "display_data"
    },
    {
     "name": "stdout",
     "output_type": "stream",
     "text": [
      "LABEL: 0\n"
     ]
    }
   ],
   "source": [
    "m = 10000 # max 58000\n",
    "LR_prediction = logreg.predict(X_test[:m])\n",
    "SVM_prediction = best_SVM.predict(X_test[:m])\n",
    "\n",
    "# ADD CODE\n",
    "for i in range(m):\n",
    "    if LR_prediction[i] != SVM_prediction[i] and SVM_prediction[i] == y_test[i]:\n",
    "        print(\"Logistic Regression prediction:\", LR_prediction[i])\n",
    "        print(\"SVM prediction:\", SVM_prediction[i])\n",
    "        plot_input(X_test,y_test,i)\n",
    "        break"
   ]
  },
  {
   "cell_type": "markdown",
   "metadata": {},
   "source": [
    "## TO DO 11\n",
    "Plot the confusion matrix for the SVM classifier and for logistic regression.\n",
    "The confusion matrix has one column for each predicted label and one row for each true label. \n",
    "It shows for each class in the corresponding row how many samples belonging to that class gets each possible output label.\n",
    "Notice that the diagonal contains the correctly classified samples, while the other cells correspond to errors.\n",
    "You can obtain it with the sklearn.metrics.confusion_matrix function (see the documentation).\n",
    "Try also to normalize the confusion matrix by the number of samples in each class in order to measure the accuracy on each single class.\n"
   ]
  },
  {
   "cell_type": "code",
   "execution_count": 20,
   "metadata": {},
   "outputs": [
    {
     "name": "stdout",
     "output_type": "stream",
     "text": [
      "Labels in training dataset: [0 1 2 3 4 5 6 7 8 9]\n",
      "Frequencies in training dataset: [1030 1030 1000  977  974  953 1010  996 1009 1021]\n",
      "\n",
      "Confusion matrix SVM \n",
      "\n",
      " [[961   3   1   3  16   7   2  13  16   8]\n",
      " [  2 913  21   7  17   5  19   0  26  20]\n",
      " [  0  23 785  17  13  20  79   3  46  14]\n",
      " [  3  12  19 896   4  12   1   5  24   1]\n",
      " [ 22  32  14  11 833   4  18   9  24   7]\n",
      " [ 11   6  16  34   9 847   6   2  19   3]\n",
      " [  3  22  50   7  28   3 867  18  10   2]\n",
      " [  5   5   8   9  22   5   8 910  11  13]\n",
      " [  5  22  13   6   2  12  26   0 921   2]\n",
      " [  6  32  20   3  21   0   3   8  20 908]]\n",
      "\n",
      "Confusion matrix LR \n",
      "\n",
      " [[878   3   4  13  29  44   2  27  14  16]\n",
      " [  7 750  61  17  37  27  39   1  45  46]\n",
      " [  1  57 591  13  28  44 133  14  76  43]\n",
      " [ 10  31  15 746  16  80   3  14  53   9]\n",
      " [ 39  40  42  32 676  13  49  25  25  33]\n",
      " [  9   8  30  55  11 781   5  26  27   1]\n",
      " [ 10  48 101  18  44  25 704  25  23  12]\n",
      " [ 16   6  22  36  33  43  10 792  21  17]\n",
      " [  7  67  72  27   8  36  52   1 719  20]\n",
      " [ 15  44  68  10  46  26  10  10  33 759]]\n"
     ]
    }
   ],
   "source": [
    "np.set_printoptions(precision=2, suppress=True) # for better aligned printing of confusion matrix use floatmode='fixed'\n",
    "\n",
    "labels, freqs = np.unique(y_test[:m], return_counts=True)\n",
    "print(\"Labels in training dataset:\", labels)\n",
    "print(\"Frequencies in training dataset:\", freqs)\n",
    "\n",
    "confusion_SVM = skm.confusion_matrix(y_test[:m], SVM_prediction) # ADD CODE\n",
    "print(\"\\nConfusion matrix SVM \\n\\n\", confusion_SVM)\n",
    "\n",
    "confusion_LR =  skm.confusion_matrix(y_test[:m], LR_prediction) # ADD CODE\n",
    "print(\"\\nConfusion matrix LR \\n\\n\", confusion_LR)"
   ]
  },
  {
   "cell_type": "code",
   "execution_count": 21,
   "metadata": {},
   "outputs": [
    {
     "name": "stdout",
     "output_type": "stream",
     "text": [
      "Confusion matrix SVM (normalized)\n"
     ]
    },
    {
     "data": {
      "image/png": "[encoded data removed]",
      "text/plain": [
       "<Figure size 720x504 with 2 Axes>"
      ]
     },
     "metadata": {
      "needs_background": "light"
     },
     "output_type": "display_data"
    },
    {
     "name": "stdout",
     "output_type": "stream",
     "text": [
      "Confusion matrix LR (normalized)\n"
     ]
    },
    {
     "data": {
      "image/png": "[encoded data removed]",
      "text/plain": [
       "<Figure size 720x504 with 2 Axes>"
      ]
     },
     "metadata": {
      "needs_background": "light"
     },
     "output_type": "display_data"
    }
   ],
   "source": [
    "# ADD CODE TO NORMALIZE CONFUSION MATRIX AND PRINT THE NORMALIZED MATRIX\n",
    "\n",
    "import seaborn as sn\n",
    "\n",
    "df_cm = pd.DataFrame(np.around(confusion_SVM /freqs[:,None], 2), range(10), range(10))\n",
    "plt.figure(figsize=(10,7))\n",
    "sn.heatmap(df_cm, annot=True)\n",
    "\n",
    "print(\"Confusion matrix SVM (normalized)\")\n",
    "\n",
    "plt.show()\n",
    "\n",
    "\n",
    "df_cm = pd.DataFrame(np.around(confusion_LR /freqs[:,None], 2), range(10), range(10))\n",
    "plt.figure(figsize=(10,7))\n",
    "sn.heatmap(df_cm, annot=True)\n",
    "\n",
    "print(\"Confusion matrix LR (normalized)\")\n",
    "\n",
    "plt.show()"
   ]
  },
  {
   "cell_type": "markdown",
   "metadata": {},
   "source": [
    "## QUESTION 4\n",
    "Have a look at the confusion matrices and comment on the obtained accuracies. Why some classes have lower accuracies and others an higher one ? Make some guesses on the possible causes.\n",
    "\n",
    "## ANSWER QUESTION 4\n",
    "Looking at the SVM confusion matrix, it is possible to see that classes 2 and 6 have lower accuracies than the others. One of the possible causes is that the corresponding characters are very similar (they are both consisting of a horizontal line, a vertical line and a circle-shaped line) making it more complicated to distinguish them.\n",
    "\n",
    "diagonal values"
   ]
  },
  {
   "cell_type": "code",
   "execution_count": null,
   "metadata": {},
   "outputs": [],
   "source": []
  }
 ],
 "metadata": {
  "kernelspec": {
   "display_name": "Python 3 (ipykernel)",
   "language": "python",
   "name": "python3"
  },
  "language_info": {
   "codemirror_mode": {
    "name": "ipython",
    "version": 3
   },
   "file_extension": ".py",
   "mimetype": "text/x-python",
   "name": "python",
   "nbconvert_exporter": "python",
   "pygments_lexer": "ipython3",
   "version": "3.8.8"
  }
 },
 "nbformat": 4,
 "nbformat_minor": 4
}
