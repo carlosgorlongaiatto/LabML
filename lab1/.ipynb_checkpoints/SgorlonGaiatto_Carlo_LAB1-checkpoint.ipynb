{
 "cells": [
  {
   "cell_type": "markdown",
   "metadata": {},
   "source": [
    " # Machine Learning LAB 1\n",
    " Academic Year 2021/22, P. Zanuttigh, U. Michieli, F. Barbato, D. Shenaj, G. Rizzoli\n",
    "\n",
    "The notebook contains some simple tasks to be performed about classification and regression. Complete **all** the required code sections and answer to **all** the questions."
   ]
  },
  {
   "cell_type": "markdown",
   "metadata": {},
   "source": [
    "### IMPORTANT 1: make sure to rerun all the code from the beginning to obtain the results for the final version of your notebook, since this is the way we will do it before evaluating your notebook!\n"
   ]
  },
  {
   "cell_type": "markdown",
   "metadata": {},
   "source": [
    "### IMPORTANT 2: Place your name and ID number. Also recall to save the file as Surname_Name_LAB1.ipynb . Notebooks without name will be discarded.\n",
    "\n",
    "**Student name**: Carlo Sgorlon Gaiatto<br>\n",
    "**ID Number**: 2044719"
   ]
  },
  {
   "cell_type": "markdown",
   "metadata": {},
   "source": [
    "\n",
    "# 1) Classification of Music genre\n",
    "\n",
    "### Dataset description\n",
    "\n",
    "A music genre is a conventional category that identifies pieces of music as belonging to a shared tradition or set of conventions. It is to be distinguished from musical form and musical style. The features extracted from these songs can help the machine to assing them to the two genres. \n",
    "\n",
    "This dataset is a subset of the dataset provided [here](https://www.kaggle.com/insiyeah/musicfeatures), containing only the data regarding the classical and metal genres.\n",
    "\n",
    "### We consider 3 features for the classification\n",
    "\n",
    "1) **tempo**, the speed at which a passage of music is played, i.e., the beats per minute of the musical piece<br>\n",
    "2) **chroma_stft**, [mean chromagram activation on Short-Time Fourier Transform](https://librosa.org/doc/0.7.0/generated/librosa.feature.chroma_stft.html)<br>\n",
    "3) **spectral_centroid**, Indicates where the \"center of mass\" of the spectrum is located, i.e., it is the weighted average of the frequency transform<br>\n"
   ]
  },
  {
   "cell_type": "markdown",
   "metadata": {},
   "source": [
    "We first import all the packages that are needed."
   ]
  },
  {
   "cell_type": "code",
   "execution_count": 2,
   "metadata": {},
   "outputs": [],
   "source": [
    "%matplotlib inline\n",
    "import matplotlib.pyplot as plt\n",
    "import csv\n",
    "\n",
    "import numpy as np\n",
    "import scipy as sp\n",
    "import sklearn as sl\n",
    "from scipy import stats\n",
    "from sklearn import datasets\n",
    "from sklearn import linear_model"
   ]
  },
  {
   "cell_type": "markdown",
   "metadata": {},
   "source": [
    "# Perceptron\n",
    "Firstly we will implement the perceptron algorithm and use it to learn a halfspace."
   ]
  },
  {
   "cell_type": "markdown",
   "metadata": {},
   "source": [
    "**TO DO** Set the random seed, you can use your ID (matricola) or any other number! Try to make various tests changing the seed."
   ]
  },
  {
   "cell_type": "code",
   "execution_count": 3,
   "metadata": {},
   "outputs": [],
   "source": [
    "IDnumber = 2044719\n",
    "np.random.seed(IDnumber)"
   ]
  },
  {
   "cell_type": "markdown",
   "metadata": {},
   "source": [
    "Load the dataset and then split in training set and test set (the training set is typically larger, you can use a 75% tranining 25% test split) after applying a random permutation to the datset."
   ]
  },
  {
   "cell_type": "markdown",
   "metadata": {},
   "source": [
    "A) Load dataset and perform permutation"
   ]
  },
  {
   "cell_type": "code",
   "execution_count": 4,
   "metadata": {},
   "outputs": [
    {
     "name": "stdout",
     "output_type": "stream",
     "text": [
      "Header: ['tempo', 'chroma_stft', 'spectral_centroid', 'label']\n",
      "\n",
      "Data shape: (200, 4)\n",
      "\n",
      "Dataset example:\n",
      "[['92.28515625' '0.22373830597598895' '2192.798091164326' '0']\n",
      " ['161.4990234375' '0.2841730455239421' '1534.0649775815205' '0']\n",
      " ['143.5546875' '0.20811288763962318' '1396.8242648287155' '0']\n",
      " ['95.703125' '0.31289954089595506' '1680.0882644413368' '0']\n",
      " ['123.046875' '0.25857228884109024' '1173.6583080518985' '0']\n",
      " ['67.99958881578948' '0.22521197942744986' '715.1893204778178' '0']\n",
      " ['95.703125' '0.2840176228179304' '1184.632142061296' '0']\n",
      " ['89.10290948275862' '0.2563949682674902' '1358.897902739857' '0']\n",
      " ['99.38401442307692' '0.2614892978768399' '1372.8258066922585' '0']\n",
      " ['184.5703125' '0.2899787266101455' '1953.0485341566464' '0']]\n",
      "\n",
      "Number of samples loaded: 200\n",
      "\n",
      "X permuted example:\n",
      "[[1.17453835e+02 4.57425500e-01 2.34061612e+03]\n",
      " [9.22851562e+01 2.23738306e-01 2.19279809e+03]\n",
      " [9.93840144e+01 2.17319909e-01 2.42339287e+03]\n",
      " [9.93840144e+01 5.24384020e-01 2.98015283e+03]\n",
      " [1.29199219e+02 4.87653545e-01 2.71855794e+03]\n",
      " [8.91029095e+01 1.98925769e-01 1.11810879e+03]\n",
      " [1.43554688e+02 2.34085778e-01 1.27961458e+03]\n",
      " [8.07495117e+01 2.52113219e-01 1.18102159e+03]\n",
      " [1.61499023e+02 4.06924980e-01 2.70749944e+03]\n",
      " [1.72265625e+02 4.43969441e-01 2.64470734e+03]]\n",
      "\n",
      "Y permuted example:\n",
      "[ 1 -1 -1  1  1 -1 -1 -1  1  1]\n"
     ]
    }
   ],
   "source": [
    "# load the dataset\n",
    "filename = 'data/music.csv'\n",
    "music = csv.reader(open(filename, newline='\\n'), delimiter=',')\n",
    "\n",
    "# skip first line\n",
    "header = next(music)\n",
    "print(f\"Header: {header}\\n\")\n",
    "\n",
    "dataset = np.array(list(music))\n",
    "print(f\"Data shape: {dataset.shape}\\n\")\n",
    "print(\"Dataset example:\")\n",
    "print(dataset[:10])\n",
    "\n",
    "# columns 0,1,2 contain the features\n",
    "X = dataset[:,:-1].astype(float)\n",
    "# last column contains the labels\n",
    "Y = dataset[:,-1].astype(int)\n",
    "# for the perceptron: classical -> -1, metal -> 1\n",
    "Y = 2*Y-1\n",
    "\n",
    "m = dataset.shape[0]\n",
    "print(\"\\nNumber of samples loaded:\", m)\n",
    "\n",
    "# random permutation\n",
    "permutation = np.random.permutation(m)\n",
    "\n",
    "X = X[permutation]\n",
    "Y = Y[permutation]\n",
    "\n",
    "print(\"\\nX permuted example:\")\n",
    "print(X[:10])\n",
    "\n",
    "print(\"\\nY permuted example:\")\n",
    "print(Y[:10])"
   ]
  },
  {
   "cell_type": "markdown",
   "metadata": {},
   "source": [
    "We are going to classify class \"1\" (metal) vs class \"-1\" (classical)"
   ]
  },
  {
   "cell_type": "markdown",
   "metadata": {},
   "source": [
    "B) **TO DO** Divide the data into training set and test set (75% of the data in the first set, 25% in the second one)"
   ]
  },
  {
   "cell_type": "code",
   "execution_count": 5,
   "metadata": {},
   "outputs": [
    {
     "name": "stdout",
     "output_type": "stream",
     "text": [
      "\n",
      "Shape of training set: (150, 3)\n",
      "Number of classical instances in training set: 77\n",
      "Number of metal instances in training set: 73\n",
      "\n",
      "Shape of test set: (50, 3)\n",
      "Number of classical instances in test set: 23\n",
      "Number of metal instances in test set: 27\n"
     ]
    }
   ],
   "source": [
    "# Divide in training and test: make sure that your training set\n",
    "# contains at least 10 elements from class 1 and at least 10 elements\n",
    "# from class -1! If it does not, modify the code so to apply more random\n",
    "# permutations (or the same permutation multiple times) until this happens.\n",
    "# IMPORTANT: do not change the random seed.\n",
    "\n",
    "\n",
    "# m_training needs to be the number of samples in the training set\n",
    "m_training = round(m*0.75)\n",
    "\n",
    "# m_test needs to be the number of samples in the test set\n",
    "m_test = m - m_training\n",
    "\n",
    "# X_training = instances for training set\n",
    "X_training = X[0:m_training]\n",
    "#Y_training = labels for the training set\n",
    "Y_training = Y[0:m_training]\n",
    "\n",
    "# X_test = instances for test set\n",
    "X_test = X[m_training:m]\n",
    "# Y_test = labels for the test set\n",
    "Y_test = Y[m_training:m]\n",
    "\n",
    "print(\"\\nShape of training set:\", X_training.shape)\n",
    "print(\"Number of classical instances in training set:\", np.sum(Y_training == -1))\n",
    "print(\"Number of metal instances in training set:\", np.sum(Y_training == 1 ))\n",
    "\n",
    "# check if Y_training contains at least 10 elements of both classes 1 and -1\n",
    "if np.sum(Y_training == -1)<10 or np.sum(Y_training == 1)<10:\n",
    "    raise ValueError(\"A bad training set has been generated\")\n",
    "\n",
    "print(\"\\nShape of test set:\", X_test.shape)\n",
    "print(\"Number of classical instances in test set:\", np.sum(Y_test == -1))\n",
    "print(\"Number of metal instances in test set:\", np.sum(Y_test == 1))"
   ]
  },
  {
   "cell_type": "markdown",
   "metadata": {},
   "source": [
    "Data Normalization: it is common practice in Statistics and Machine Learning to scale the data (= each variable) so that it is centered (zero mean) and has standard deviation equal to 1. This helps in terms of numerical conditioning of the (inverse) problems of estimating the model (the coefficients of the linear regression in this case), as well as to give the same scale to all the coefficients."
   ]
  },
  {
   "cell_type": "code",
   "execution_count": 6,
   "metadata": {},
   "outputs": [
    {
     "name": "stdout",
     "output_type": "stream",
     "text": [
      "Mean of the training input data: [ 0.  0. -0.]\n",
      "Std of the training input data: [1. 1. 1.]\n",
      "Mean of the test input data: [-0.26151231  0.08258641  0.12814331]\n",
      "Std of the test input data: [1.08110889 1.00435524 1.02147999]\n"
     ]
    }
   ],
   "source": [
    "normalization = True\n",
    "\n",
    "if normalization:\n",
    "    # scale the data\n",
    "\n",
    "    # standardize the input matrix\n",
    "    from sklearn import preprocessing\n",
    "    # the transformation is computed on training data and then used on all the 3 sets\n",
    "    scaler = preprocessing.StandardScaler().fit(X_training) \n",
    "\n",
    "    np.set_printoptions(suppress=True) # sets to zero floating point numbers < min_float_eps\n",
    "    X_training = scaler.transform(X_training)\n",
    "    print (\"Mean of the training input data:\", X_training.mean(axis=0))\n",
    "    print (\"Std of the training input data:\",X_training.std(axis=0))\n",
    "\n",
    "    X_test = scaler.transform(X_test) # use the same transformation on test data\n",
    "    print (\"Mean of the test input data:\", X_test.mean(axis=0))\n",
    "    print (\"Std of the test input data:\", X_test.std(axis=0))"
   ]
  },
  {
   "cell_type": "markdown",
   "metadata": {},
   "source": [
    "We add a 1 in front of each sample so that we can use a vector in homogeneous coordinates to describe all the coefficients of the model. This can be done with the function $hstack$ in $numpy$."
   ]
  },
  {
   "cell_type": "code",
   "execution_count": 7,
   "metadata": {},
   "outputs": [
    {
     "name": "stdout",
     "output_type": "stream",
     "text": [
      "Shape of training set: (150, 4)\n",
      "Training set in homogeneous coordinates:\n",
      "[[ 1.         -0.37663457  0.75136899  0.5398386 ]\n",
      " [ 1.         -1.26005154 -1.23292243  0.33278859]\n",
      " [ 1.         -1.01088265 -1.28742251  0.65578472]\n",
      " [ 1.         -1.01088265  1.3199291   1.4356433 ]\n",
      " [ 1.          0.03562668  1.00804224  1.06922503]\n",
      " [ 1.         -1.37174793 -1.44361136 -1.17253816]\n",
      " [ 1.          0.53950155 -1.14505968 -0.94631559]\n",
      " [ 1.         -1.66495098 -0.99198456 -1.08441566]\n",
      " [ 1.          1.16934513  0.32255753  1.0537353 ]\n",
      " [ 1.          1.54725127  0.63711052  0.96578185]]\n"
     ]
    }
   ],
   "source": [
    "# Add a 1 to each sample (homogeneous coordinates)\n",
    "X_training = np.hstack((np.ones((m_training,1)),X_training))\n",
    "X_test = np.hstack((np.ones((m_test,1)),X_test))\n",
    "\n",
    "print(\"Shape of training set:\", X_training.shape)\n",
    "print(\"Training set in homogeneous coordinates:\")\n",
    "print(X_training[:10])\n"
   ]
  },
  {
   "cell_type": "markdown",
   "metadata": {},
   "source": [
    "**TO DO** Now complete the function *perceptron*. Since the perceptron does not terminate if the data is not linearly separable, your implementation should return the desired output (see below) if it reached the termination condition seen in class or if a maximum number of iterations have already been run, where one iteration corresponds to one update of the perceptron weights. In case the termination is reached because the maximum number of iterations have been completed, the implementation should return **the best model** seen up to now.\n",
    "\n",
    "The input parameters to pass are:\n",
    "- $X$: the matrix of input features, one row for each sample\n",
    "- $Y$: the vector of labels for the input features matrix X\n",
    "- $max\\_num\\_iterations$: the maximum number of iterations for running the perceptron\n",
    "\n",
    "The output values are:\n",
    "- $best\\_w$: the vector with the coefficients of the best model\n",
    "- $best\\_error$: the *fraction* of misclassified samples for the best model"
   ]
  },
  {
   "cell_type": "code",
   "execution_count": 8,
   "metadata": {},
   "outputs": [],
   "source": [
    "def perceptron_update(current_w, x, y):\n",
    "    # update rule of the perceptron algorithm\n",
    "    new_w = current_w + y*x\n",
    "    return new_w\n",
    "\n",
    "def perceptron(X, Y, max_num_iterations):\n",
    "    # main section of the perceptron algorithm\n",
    "    \n",
    "    # initialize the algorith with w = 0\n",
    "    # use a best_w variable to keep track of the best solution\n",
    "    curr_w = np.zeros(4)\n",
    "    best_w = np.zeros(4)\n",
    "    num_samples = m_training\n",
    "    best_error = 1\n",
    "    \n",
    "    index_misclassified = 0\n",
    "    num_misclassified = 0\n",
    "    \n",
    "    # main loop continue until all samples correctly classified or max # iterations reached\n",
    "    num_iter = 1\n",
    "    \n",
    "    while ((index_misclassified != -1) and (num_iter < max_num_iterations)):\n",
    "        \n",
    "        index_misclassified = -1\n",
    "        num_misclassified = 0\n",
    "        \n",
    "        # random permutation to avoid always working on the same sample\n",
    "        permutation = np.random.permutation(num_samples)      \n",
    "        X = X[permutation]\n",
    "        Y = Y[permutation]\n",
    "        \n",
    "        for i in range(num_samples):\n",
    "            # check if the i-th randomly selected sample is misclassified\n",
    "            # store the number of randomly classified samples and the index of one of them\n",
    "            \n",
    "            if Y[i]*np.dot(curr_w,X[i]) <= 0:\n",
    "                num_misclassified += 1\n",
    "                if index_misclassified == -1:\n",
    "                    index_misclassified = i\n",
    "            \n",
    "        # update error count and keep track of the best solution  \n",
    "        if num_misclassified/num_samples < best_error:\n",
    "            best_error = num_misclassified/num_samples\n",
    "            best_w = curr_w\n",
    "    \n",
    "        num_iter += 1\n",
    "        \n",
    "        # call update function using a misclassifed sample        \n",
    "        curr_w = perceptron_update(curr_w,X[index_misclassified],Y[index_misclassified])\n",
    "  \n",
    "    return best_w, best_error"
   ]
  },
  {
   "cell_type": "markdown",
   "metadata": {},
   "source": [
    "Now we use the implementation above of the perceptron to learn a model from the training data using 100 iterations and print the error of the best model we have found."
   ]
  },
  {
   "cell_type": "code",
   "execution_count": 9,
   "metadata": {},
   "outputs": [
    {
     "name": "stdout",
     "output_type": "stream",
     "text": [
      "Best model w found: [ 0.         -1.80122348  4.25218023  1.6768787 ]\n",
      "Training Error of perpceptron (100 iterations): 0.006666666666666667\n"
     ]
    }
   ],
   "source": [
    "# run the perceptron for 100 iterations\n",
    "w_found, error = perceptron(X_training, Y_training, 100)\n",
    "print(\"Best model w found:\", w_found)\n",
    "print(\"Training Error of perpceptron (100 iterations):\", error)"
   ]
  },
  {
   "cell_type": "markdown",
   "metadata": {},
   "source": [
    "**TO DO** use the best model $w\\_found$ to predict the labels for the test dataset and print the fraction of misclassified samples in the test set (the test error that is an estimate of the true loss)."
   ]
  },
  {
   "cell_type": "code",
   "execution_count": 10,
   "metadata": {},
   "outputs": [
    {
     "name": "stdout",
     "output_type": "stream",
     "text": [
      "Test Error of perpceptron (100 iterations): 0.0\n"
     ]
    }
   ],
   "source": [
    "# use the w_found to make predictions on test dataset\n",
    "\n",
    "num_errors = 0\n",
    "\n",
    "for i in range(m_test):                     \n",
    "    if Y_test[i]*np.dot(w_found,X_test[i]) <= 0:\n",
    "        num_errors += 1\n",
    "\n",
    "# error rate on the test set\n",
    "true_loss_estimate = num_errors/m_test  \n",
    "print(\"Test Error of perpceptron (100 iterations):\", true_loss_estimate)"
   ]
  },
  {
   "cell_type": "markdown",
   "metadata": {},
   "source": [
    "**TO DO** **[Answer the following]** What about the difference betweeen the training error and the test error  in terms of fraction of misclassified samples? Explain what you observe. [Write the answer in this cell]\n",
    "\n",
    "**ANSWER QUESTION 1**\n",
    "\n",
    "*Data Normalization Off*\n",
    "\n",
    "The test error is larger than the training error, as we might have expected since the model was trained on the training set. Moreover, both the training error and the test error depend significantly on the choice of seed, indicating a high instability of the perceptron \n",
    "algorithm for this specific dataset.\n",
    "\n",
    "*Data Normalization On*\n",
    "\n",
    "In this case the performance is far better and there is only one misclassified sample that can appear in the training set or the test set depending on the random permutation."
   ]
  },
  {
   "cell_type": "markdown",
   "metadata": {},
   "source": [
    "**TO DO** Copy the code from the last 2 cells above in the cell below and repeat the training with 4000 iterations. Then print the error in the training set and the estimate of the true loss obtained from the test set."
   ]
  },
  {
   "cell_type": "code",
   "execution_count": 11,
   "metadata": {
    "scrolled": true
   },
   "outputs": [
    {
     "name": "stdout",
     "output_type": "stream",
     "text": [
      "Best model w found: [ 1.         -7.93332803 21.91842168  7.23380767]\n",
      "Training Error of perpceptron (4000 iterations): 0.0\n",
      "Test Error of perpceptron (4000 iterations): 0.0\n"
     ]
    }
   ],
   "source": [
    "# run the perceptron for 4000 iterations\n",
    "\n",
    "w_found, error = perceptron(X_training, Y_training, 4000)\n",
    "print(\"Best model w found:\", w_found)\n",
    "print(\"Training Error of perpceptron (4000 iterations):\", error)\n",
    "\n",
    "num_errors = 0\n",
    "for i in range(m_test):                     \n",
    "    if Y_test[i]*np.dot(w_found,X_test[i]) <= 0:\n",
    "        num_errors += 1\n",
    "        \n",
    "true_loss_estimate = num_errors/m_test \n",
    "print(\"Test Error of perpceptron (4000 iterations):\", true_loss_estimate)"
   ]
  },
  {
   "cell_type": "markdown",
   "metadata": {},
   "source": [
    "**TO DO** [Answer the following] What about the difference betweeen the training error and the test error  in terms of fraction of misclassified samples when running for a larger number of iterations? Explain what you observe and compare with the previous case. [Write the answer in this cell]\n",
    "\n",
    "**ANSWER QUESTION 2**\n",
    "\n",
    "*Data Normalization Off*\n",
    "\n",
    "Now both the training error and the test error are smaller, but the relationship between them is the same. In addition, after a certain number of iterations (in the order of a thousand) there are no more significant improvements.\n",
    "\n",
    "*Data Normalization On*\n",
    "\n",
    "In this case the algorithm reaches the optimal solution, i.e. both the training error and the test error are zero."
   ]
  },
  {
   "cell_type": "markdown",
   "metadata": {},
   "source": [
    "# Logistic Regression\n",
    "Now we use logistic regression, exploiting the implementation in Scikit-learn, to predict labels. We will also plot the decision region of logistic regression.\n",
    "\n",
    "We first load the dataset again."
   ]
  },
  {
   "cell_type": "code",
   "execution_count": 12,
   "metadata": {},
   "outputs": [
    {
     "name": "stdout",
     "output_type": "stream",
     "text": [
      "Header: ['tempo', 'chroma_stft', 'spectral_centroid', 'label']\n",
      "\n",
      "Data shape: (200, 4)\n",
      "\n",
      "Dataset example:\n",
      "[['92.28515625' '0.22373830597598895' '2192.798091164326' '0']\n",
      " ['161.4990234375' '0.2841730455239421' '1534.0649775815205' '0']\n",
      " ['143.5546875' '0.20811288763962318' '1396.8242648287155' '0']\n",
      " ['95.703125' '0.31289954089595506' '1680.0882644413368' '0']\n",
      " ['123.046875' '0.25857228884109024' '1173.6583080518985' '0']\n",
      " ['67.99958881578948' '0.22521197942744986' '715.1893204778178' '0']\n",
      " ['95.703125' '0.2840176228179304' '1184.632142061296' '0']\n",
      " ['89.10290948275862' '0.2563949682674902' '1358.897902739857' '0']\n",
      " ['99.38401442307692' '0.2614892978768399' '1372.8258066922585' '0']\n",
      " ['184.5703125' '0.2899787266101455' '1953.0485341566464' '0']]\n",
      "\n",
      "Number of samples loaded: 200\n"
     ]
    }
   ],
   "source": [
    "# Load the dataset\n",
    "filename = 'data/music.csv'\n",
    "music = csv.reader(open(filename, newline='\\n'), delimiter=',')\n",
    "\n",
    "# skip first line\n",
    "header = next(music)\n",
    "print(f\"Header: {header}\\n\")\n",
    "\n",
    "dataset = np.array(list(music))\n",
    "print(f\"Data shape: {dataset.shape}\\n\")\n",
    "print(\"Dataset example:\")\n",
    "print(dataset[:10,...])\n",
    "\n",
    "# columns 0,1,2 contain the features\n",
    "X = dataset[:,:-1].astype(float)\n",
    "# last column contains the labels\n",
    "Y = dataset[:,-1].astype(int)    \n",
    "# for the perceprton: classical -> -1, metal -> 1\n",
    "Y = 2*Y-1\n",
    "\n",
    "m = dataset.shape[0]\n",
    "print(\"\\nNumber of samples loaded:\", m)\n",
    "\n",
    "# random permutation\n",
    "permutation = np.random.permutation(m)\n",
    "\n",
    "X = X[permutation]\n",
    "Y = Y[permutation]"
   ]
  },
  {
   "cell_type": "markdown",
   "metadata": {},
   "source": [
    "**TO DO** As for the previous part, divide the data into training and test (75%-25%) and add a 1 as first component to each sample."
   ]
  },
  {
   "cell_type": "code",
   "execution_count": 13,
   "metadata": {},
   "outputs": [
    {
     "name": "stdout",
     "output_type": "stream",
     "text": [
      "\n",
      "Shape of training set: (150, 3)\n",
      "Number of classical instances in training set: 68\n",
      "Number of metal instances in training set: 82\n",
      "\n",
      "Shape of test set: (50, 3)\n",
      "Number of classical instances in test set: 32\n",
      "Number of metal instances in test set: 18\n"
     ]
    }
   ],
   "source": [
    "# Divide in training and test: make sure that your training set\n",
    "# contains at least 10 elements from class 1 and at least 10 elements\n",
    "# from class -1! If it does not, modify the code so to apply more random\n",
    "# permutations (or the same permutation multiple times) until this happens.\n",
    "# IMPORTANT: do not change the random seed.\n",
    "\n",
    "\n",
    "# m_training needs to be the number of samples in the training set\n",
    "m_training = round(m*0.75)\n",
    "\n",
    "# m_test needs to be the number of samples in the test set\n",
    "m_test = m - m_training\n",
    "\n",
    "# X_training = instances for training set\n",
    "X_training = X[0:m_training]\n",
    "#Y_training = labels for the training set\n",
    "Y_training = Y[0:m_training]\n",
    "\n",
    "# X_test = instances for test set\n",
    "X_test = X[m_training:m]\n",
    "# Y_test = labels for the test set\n",
    "Y_test = Y[m_training:m]\n",
    "\n",
    "\n",
    "print(\"\\nShape of training set:\", X_training.shape)\n",
    "print(\"Number of classical instances in training set:\", np.sum(Y_training == -1))\n",
    "print(\"Number of metal instances in training set:\", np.sum(Y_training == 1 ))\n",
    "\n",
    "# check if Y_training contains at least 10 elements of both classes 1 and -1\n",
    "if np.sum(Y_training == -1)<10 or np.sum(Y_training == 1)<10:\n",
    "    raise ValueError(\"A bad training set has been generated\")\n",
    "\n",
    "print(\"\\nShape of test set:\", X_test.shape)\n",
    "print(\"Number of classical instances in test set:\", np.sum(Y_test == -1))\n",
    "print(\"Number of metal instances in test set:\", np.sum(Y_test == 1))"
   ]
  },
  {
   "cell_type": "code",
   "execution_count": 14,
   "metadata": {},
   "outputs": [
    {
     "name": "stdout",
     "output_type": "stream",
     "text": [
      "Shape of training set: (150, 4)\n",
      "Training set in homogeneous coordinates:\n",
      "[[   1.          123.046875      0.20716326  828.75444227]\n",
      " [   1.           95.703125      0.23565796 1179.90865427]\n",
      " [   1.          161.49902344    0.27081486 1633.53475878]\n",
      " [   1.          117.45383523    0.27834892 1243.71802052]\n",
      " [   1.          143.5546875     0.23408578 1279.61457768]\n",
      " [   1.          123.046875      0.44082918 2955.27209439]\n",
      " [   1.           95.703125      0.3338626  1524.90676087]\n",
      " [   1.          123.046875      0.4925501  2907.02857401]\n",
      " [   1.          151.99908088    0.24305637  949.46083197]\n",
      " [   1.           99.38401442    0.21731991 2423.39287134]]\n"
     ]
    }
   ],
   "source": [
    "# Add a 1 to each sample (homogeneous coordinates)\n",
    "X_training = np.hstack((np.ones((m_training,1)),X_training))\n",
    "X_test = np.hstack((np.ones((m_test,1)),X_test))\n",
    "\n",
    "print(\"Shape of training set:\", X_training.shape)\n",
    "print(\"Training set in homogeneous coordinates:\")\n",
    "print(X_training[:10])"
   ]
  },
  {
   "cell_type": "markdown",
   "metadata": {},
   "source": [
    "To define a logistic regression model in Scikit-learn use the instruction\n",
    "\n",
    "$linear\\_model.LogisticRegression(C=1e5)$\n",
    "\n",
    "($C$ is a parameter related to *regularization*, a technique that\n",
    "we will see later in the course. Setting it to a high value is almost\n",
    "as ignoring regularization, so the instruction above corresponds to the\n",
    "logistic regression you have seen in class.)\n",
    "\n",
    "To learn the model you need to use the $fit(...)$ instruction and to predict you need to use the $predict(...)$ function. See the Scikit-learn documentation for how to use it.\n",
    "\n",
    "**TO DO** Define the logistic regression model, then learn the model using the training set and predict on the test set. Then print the fraction of samples misclassified in the training set and in the test set."
   ]
  },
  {
   "cell_type": "code",
   "execution_count": 15,
   "metadata": {},
   "outputs": [
    {
     "name": "stdout",
     "output_type": "stream",
     "text": [
      "Error rate on training set: 0.0\n",
      "Error rate on test set: 0.020000000000000018\n"
     ]
    }
   ],
   "source": [
    "# part on logistic regression for 2 classes\n",
    "\n",
    "# a large C disables regularization\n",
    "logreg = linear_model.LogisticRegression(C=1e5)\n",
    "\n",
    "# learn from training set\n",
    "logreg.fit(X_training,Y_training)\n",
    "\n",
    "#predict on training set\n",
    "logreg.predict(X_training)\n",
    "\n",
    "#print the error rate = fraction of misclassified samples\n",
    "error_rate_training = 1-logreg.score(X_training,Y_training)\n",
    "print(\"Error rate on training set:\", error_rate_training)\n",
    "\n",
    "# predict on test set\n",
    "logreg.predict(X_test)\n",
    "\n",
    "# print the error rate = fraction of misclassified samples\n",
    "error_rate_test = 1-logreg.score(X_test,Y_test)\n",
    "print(\"Error rate on test set:\", error_rate_test)"
   ]
  },
  {
   "cell_type": "markdown",
   "metadata": {},
   "source": [
    "**TO DO** Now pick two features and restrict the dataset to include only two features, whose indices are specified in the $feature$ vector below. Then split into training and test. Which features are you going to select ?"
   ]
  },
  {
   "cell_type": "code",
   "execution_count": 16,
   "metadata": {},
   "outputs": [
    {
     "name": "stdout",
     "output_type": "stream",
     "text": [
      "\n",
      "Shape of training set: (150, 2)\n",
      "Number of classical instances in training set: 68\n",
      "Number of metal instances in training set: 82\n",
      "\n",
      "Shape of test set: (50, 2)\n",
      "Number of classical instances in test set: 32\n",
      "Number of metal instances in test set: 18\n"
     ]
    }
   ],
   "source": [
    "# to make the plot we need to reduce the data to 2D, so we choose two features\n",
    "features_list = ['tempo', 'chroma_stft', 'spectral_centroid']\n",
    "\n",
    "# Select the best 2 features according to your experiments\n",
    "index_feature1 = 1\n",
    "index_feature2 = 2\n",
    "features = [index_feature1, index_feature2]\n",
    "\n",
    "feature_name0 = features_list[features[0]]\n",
    "feature_name1 = features_list[features[1]]\n",
    "\n",
    "X_reduced = X[:,features]\n",
    "\n",
    "# X_training = instances for training set\n",
    "X_training = X_reduced[0:m_training]\n",
    "#Y_training = labels for the training set\n",
    "Y_training = Y[0:m_training]\n",
    "\n",
    "# X_test = instances for test set\n",
    "X_test = X_reduced[m_training:m]\n",
    "# Y_test = labels for the test set\n",
    "Y_test = Y[m_training:m]\n",
    "\n",
    "print(\"\\nShape of training set:\", X_training.shape)\n",
    "print(\"Number of classical instances in training set:\", np.sum(Y_training == -1))\n",
    "print(\"Number of metal instances in training set:\", np.sum(Y_training == 1 ))\n",
    "\n",
    "# check if Y_training contains at least 10 elements of both classes 1 and -1\n",
    "if np.sum(Y_training == -1)<10 or np.sum(Y_training == 1)<10:\n",
    "    raise ValueError(\"A bad training set has been generated\")\n",
    "\n",
    "print(\"\\nShape of test set:\", X_test.shape)\n",
    "print(\"Number of classical instances in test set:\", np.sum(Y_test == -1))\n",
    "print(\"Number of metal instances in test set:\", np.sum(Y_test == 1))"
   ]
  },
  {
   "cell_type": "markdown",
   "metadata": {},
   "source": [
    "Now learn a model using the training data and measure the performances."
   ]
  },
  {
   "cell_type": "code",
   "execution_count": 17,
   "metadata": {},
   "outputs": [
    {
     "name": "stdout",
     "output_type": "stream",
     "text": [
      "Error rate on training set: 0.0\n",
      "Error rate on test set: 0.020000000000000018\n"
     ]
    }
   ],
   "source": [
    "# learn from training set\n",
    "logreg.fit(X_training,Y_training)\n",
    "\n",
    "# predict on training set\n",
    "logreg.predict(X_training)\n",
    "\n",
    "# print the error rate = fraction of misclassified samples\n",
    "error_rate_training = 1-logreg.score(X_training,Y_training)\n",
    "print(\"Error rate on training set: \" + str(error_rate_training))\n",
    "\n",
    "# predict on test set\n",
    "logreg.predict(X_test)\n",
    "\n",
    "# print the error rate = fraction of misclassified samples\n",
    "error_rate_test = 1-logreg.score(X_test,Y_test)\n",
    "print(\"Error rate on test set: \" + str(error_rate_test))"
   ]
  },
  {
   "cell_type": "markdown",
   "metadata": {},
   "source": [
    "**TO DO** [Answer the following] Which features did you select and why? Compare the perfromances with the ones of the case with all the 3 features and comment about the results. [Write the answer in this cell]\n",
    "\n",
    "**ANSWER QUESTION 3**\n",
    "\n",
    "It seems that \"chroma_stft\" and \"spectral_centroid\" are the features that produce the best pattern but the result depends also on the permutation. Probably then the dataset is too small to evaluate with precision which are the best features (in fact the number of samples not classified correctly goes from 0 to 2 depending on the chosen features).\n",
    "\n",
    "If I had to provide an explanation for why the first feature, \"Tempo\", seems to be the worst I would do the following reasoning: consider for example a song in 4/4 at 80 bpm. If the song is played in octaves it could be interpreted as a 4/4 at 160 bpm in quarters and consequently this makes it harder to classify the musical genre."
   ]
  },
  {
   "cell_type": "markdown",
   "metadata": {},
   "source": [
    "If everything is ok, the code below uses the model in $logreg$ to plot the decision region for the two features chosen above, with colors denoting the predicted value. It also plots the points (with correct labels) in the training set. It makes a similar plot for the test set."
   ]
  },
  {
   "cell_type": "code",
   "execution_count": 18,
   "metadata": {
    "scrolled": true
   },
   "outputs": [
    {
     "name": "stderr",
     "output_type": "stream",
     "text": [
      "/tmp/ipykernel_4981/2751404703.py:18: MatplotlibDeprecationWarning: shading='flat' when X and Y have the same dimensions as C is deprecated since 3.3.  Either specify the corners of the quadrilaterals with X and Y, or pass shading='auto', 'nearest' or 'gouraud', or set rcParams['pcolor.shading'].  This will become an error two minor releases later.\n",
      "  plt.pcolormesh(xx, yy, Z, cmap=plt.cm.Paired)\n"
     ]
    },
    {
     "data": {
      "image/png": "[encoded data removed]",
      "text/plain": [
       "<Figure size 288x216 with 1 Axes>"
      ]
     },
     "metadata": {},
     "output_type": "display_data"
    },
    {
     "name": "stderr",
     "output_type": "stream",
     "text": [
      "/tmp/ipykernel_4981/2751404703.py:36: MatplotlibDeprecationWarning: shading='flat' when X and Y have the same dimensions as C is deprecated since 3.3.  Either specify the corners of the quadrilaterals with X and Y, or pass shading='auto', 'nearest' or 'gouraud', or set rcParams['pcolor.shading'].  This will become an error two minor releases later.\n",
      "  plt.pcolormesh(xx, yy, Z, cmap=plt.cm.Paired)\n"
     ]
    },
    {
     "data": {
      "image/png": "[encoded data removed]",
      "text/plain": [
       "<Figure size 288x216 with 1 Axes>"
      ]
     },
     "metadata": {},
     "output_type": "display_data"
    }
   ],
   "source": [
    "# Plot the decision boundary. For that, we will assign a color to each\n",
    "# point in the mesh [x_min, x_max]x[y_min, y_max].\n",
    "\n",
    "# NOTICE: This visualization code has been developed for a \"standard\" solution of the notebook, \n",
    "# it could be necessary to make some fixes to adapt to your implementation\n",
    "\n",
    "h = .02  # step size in the mesh\n",
    "x_min, x_max = X_reduced[:, 0].min() - .5, X_reduced[:, 0].max() + .5\n",
    "y_min, y_max = X_reduced[:, 1].min() - .5, X_reduced[:, 1].max() + .5\n",
    "xx, yy = np.meshgrid(np.arange(x_min, x_max, h), np.arange(y_min, y_max, h))\n",
    "\n",
    "Z = logreg.predict(np.c_[xx.ravel(), yy.ravel()])\n",
    "\n",
    "# Put the result into a color plot\n",
    "Z = Z.reshape(xx.shape)\n",
    "\n",
    "plt.figure(1, figsize=(4, 3))\n",
    "plt.pcolormesh(xx, yy, Z, cmap=plt.cm.Paired)\n",
    "\n",
    "# Plot also the training points\n",
    "plt.scatter(X_training[:, 0], X_training[:, 1], c=Y_training, edgecolors='k', cmap=plt.cm.Paired)\n",
    "plt.xlabel(feature_name0)\n",
    "plt.ylabel(feature_name1)\n",
    "\n",
    "plt.xlim(xx.min(), xx.max())\n",
    "plt.ylim(yy.min(), yy.max())\n",
    "plt.xticks(())\n",
    "plt.yticks(())\n",
    "plt.title('Training set')\n",
    "\n",
    "plt.show()\n",
    "\n",
    "# Put the result into a color plot\n",
    "Z = Z.reshape(xx.shape)\n",
    "plt.figure(1, figsize=(4, 3))\n",
    "plt.pcolormesh(xx, yy, Z, cmap=plt.cm.Paired)\n",
    "\n",
    "# Plot also the test points \n",
    "plt.scatter(X_test[:, 0], X_test[:, 1], c=Y_test, edgecolors='k', cmap=plt.cm.Paired, marker='s')\n",
    "plt.xlabel(feature_name0)\n",
    "plt.ylabel(feature_name1)\n",
    "\n",
    "plt.xlim(xx.min(), xx.max())\n",
    "plt.ylim(yy.min(), yy.max())\n",
    "plt.xticks(())\n",
    "plt.yticks(())\n",
    "plt.title('Test set')\n",
    "\n",
    "plt.show()"
   ]
  },
  {
   "cell_type": "markdown",
   "metadata": {},
   "source": [
    "# 2) Linear Regression on the Boston House Price dataset\n",
    "\n",
    "### Dataset description: \n",
    "\n",
    "The Boston House Price Dataset involves the prediction of a house price in thousands of dollars given details about the house and its neighborhood.\n",
    "\n",
    "The dataset contains a total of 500 observations, which relate 13 input features to an output variable (house price).\n",
    "\n",
    "The variable names are as follows:\n",
    "\n",
    "CRIM: per capita crime rate by town.\n",
    "\n",
    "ZN: proportion of residential land zoned for lots over 25,000 sq.ft.\n",
    "\n",
    "INDUS: proportion of nonretail business acres per town.\n",
    "\n",
    "CHAS: Charles River dummy variable (= 1 if tract bounds river; 0 otherwise).\n",
    "\n",
    "NOX: nitric oxides concentration (parts per 10 million).\n",
    "\n",
    "RM: average number of rooms per dwelling.\n",
    "\n",
    "AGE: proportion of owner-occupied units built prior to 1940.\n",
    "\n",
    "DIS: weighted distances to five Boston employment centers.\n",
    "\n",
    "RAD: index of accessibility to radial highways.\n",
    "\n",
    "TAX: full-value property-tax rate per $10,000.\n",
    "\n",
    "PTRATIO: pupil-teacher ratio by town.\n",
    "\n",
    "B: 1000*(Bk – 0.63)2 where Bk is the proportion of blacks by town.\n",
    "\n",
    "LSTAT: % lower status of the population.\n",
    "\n",
    "MEDV: Median value of owner-occupied homes in $1000s.\n",
    "    "
   ]
  },
  {
   "cell_type": "code",
   "execution_count": 19,
   "metadata": {},
   "outputs": [],
   "source": [
    "# needed if you get the IPython/javascript error on the in-line plots\n",
    "%matplotlib nbagg  \n",
    "\n",
    "import matplotlib.pyplot as plt\n",
    "import numpy as np\n",
    "import scipy as sp\n",
    "from scipy import stats"
   ]
  },
  {
   "cell_type": "code",
   "execution_count": 20,
   "metadata": {},
   "outputs": [
    {
     "name": "stdout",
     "output_type": "stream",
     "text": [
      "DescribeResult(nobs=500, minmax=(array([  0.00632,   0.     ,   0.46   ,   0.     ,   0.385  ,   3.561  ,\n",
      "         2.9    ,   1.1296 ,   1.     , 187.     ,  12.6    ,   0.32   ,\n",
      "         1.73   ,  50.     ]), array([ 88.9762, 100.    ,  27.74  ,   1.    ,   0.871 ,   8.78  ,\n",
      "       100.    ,  12.1265,  24.    , 711.    ,  22.    , 396.9   ,\n",
      "        37.97  , 500.    ])), mean=array([  3.65578576,  11.5       ,  11.13174   ,   0.07      ,\n",
      "         0.5544514 ,   6.28297   ,  68.4246    ,   3.8119318 ,\n",
      "         9.642     , 409.624     ,  18.4286    , 356.20804   ,\n",
      "        12.69874   , 225.68      ]), variance=array([   74.72521949,   548.90581162,    47.61982282,     0.06523046,\n",
      "           0.01358383,     0.49761833,   799.31416317,     4.46304043,\n",
      "          75.96175952, 28560.51966333,     4.67663531,  8416.5713729 ,\n",
      "          51.3361942 ,  8529.82925852]), skewness=array([ 5.17851447,  2.19924065,  0.29469001,  3.37060575,  0.72944382,\n",
      "        0.40691344, -0.58266003,  0.99061328,  0.9886802 ,  0.65098333,\n",
      "       -0.79127942, -2.85972639,  0.89051925,  1.09625625]), kurtosis=array([36.3384518 ,  3.88460431, -1.25254394,  9.3609831 , -0.10223624,\n",
      "        1.84311394, -0.99523636,  0.43299159, -0.90519243, -1.16696682,\n",
      "       -0.30903922,  7.00864873,  0.44527324,  1.4266838 ]))\n",
      "\n",
      "Shape of data array: (500, 14)\n"
     ]
    }
   ],
   "source": [
    "# Import Data: Load the data from a .csv file\n",
    "filename = \"data/house.csv\"\n",
    "Data = np.genfromtxt(filename, delimiter=';',skip_header=1)\n",
    "\n",
    "# A quick overview of data, to inspect the data you can use the method describe()\n",
    "dataDescription = stats.describe(Data)\n",
    "print(dataDescription)\n",
    "print (\"\\nShape of data array:\", Data.shape)\n",
    "\n",
    "#for more interesting visualization: use Panda!"
   ]
  },
  {
   "cell_type": "markdown",
   "metadata": {},
   "source": [
    "# Split data in training and test sets\n",
    "\n",
    "\n",
    "\n",
    "Given $m$ total data, denote with $m_{t}$ the part used for training. Keep $m_t$ data as training data, and $m_{test}:= m-m_{t}$. For instance one can take $m_t=0.7m$ of the data as training and $m_{test}=0.3m$ as testing. Let us define as define\n",
    "\n",
    "$\\bullet$ $S_{t}$ the training data set\n",
    "\n",
    "$\\bullet$ $S_{test}$ the testing data set\n",
    "\n",
    "\n",
    "The reason for this splitting is as follows:\n",
    "\n",
    "TRAINING DATA: The training data are used to compute the empirical loss\n",
    "$$\n",
    "L_S(h) = \\frac{1}{m_t} \\sum_{z_i \\in S_{t}} \\ell(h,z_i)\n",
    "$$\n",
    "which is used to estimate $h$ in a given model class ${\\cal H}$.\n",
    "i.e. \n",
    "$$\n",
    "\\hat{h} = {\\rm arg\\; min}_{h \\in {\\cal H}} \\, L_S(h)\n",
    "$$\n",
    "\n",
    "TESTING DATA: The test data set can be used to estimate the performance of the final estimated model\n",
    "$\\hat h_{\\hat d_j}$ using:\n",
    "$$\n",
    "L_{{\\cal D}}(\\hat h_{\\hat d_j}) \\simeq \\frac{1}{m_{test}} \\sum_{ z_i \\in S_{test}} \\ell(\\hat h_{\\hat d_j},z_i)\n",
    "$$\n",
    "\n",
    "\n",
    "**TO DO**: split the data in training and test sets (70%-30%)"
   ]
  },
  {
   "cell_type": "code",
   "execution_count": 21,
   "metadata": {},
   "outputs": [
    {
     "name": "stdout",
     "output_type": "stream",
     "text": [
      "Total number of samples: 500\n",
      "Cardinality of Training Set: 350\n",
      "\n",
      "Training input data size: (350, 13)\n",
      "Training output data size: (350,)\n",
      "\n",
      "Test input data size: (150, 13)\n",
      "Test output data size: (150,)\n"
     ]
    }
   ],
   "source": [
    "# get number of total samples\n",
    "num_total_samples = Data.shape[0]\n",
    "print (\"Total number of samples:\", num_total_samples)\n",
    "\n",
    "m_t = int(num_total_samples*.7)\n",
    "print (\"Cardinality of Training Set:\", m_t)\n",
    "\n",
    "# shuffle the data\n",
    "np.random.shuffle(Data)\n",
    "\n",
    "# training data \n",
    "X_training = Data[:m_t,:-1]\n",
    "Y_training = Data[:m_t,-1]\n",
    "print (\"\\nTraining input data size:\", X_training.shape)\n",
    "print (\"Training output data size:\", Y_training.shape)\n",
    "\n",
    "# test data, to be used to estimate the true loss of the final model(s)\n",
    "X_test = Data[m_t:,:-1]\n",
    "Y_test = Data[m_t:,-1]\n",
    "print (\"\\nTest input data size:\", X_test.shape)\n",
    "print (\"Test output data size:\", Y_test.shape)"
   ]
  },
  {
   "cell_type": "markdown",
   "metadata": {},
   "source": [
    "# Data Normalization\n",
    "It is common practice in Statistics and Machine Learning to scale the data (= each variable) so that it is centered (zero mean) and has standard deviation equal to 1. This helps in terms of numerical conditioning of the (inverse) problems of estimating the model (the coefficients of the linear regression in this case), as well as to give the same scale to all the coefficients."
   ]
  },
  {
   "cell_type": "code",
   "execution_count": 22,
   "metadata": {},
   "outputs": [
    {
     "name": "stdout",
     "output_type": "stream",
     "text": [
      "Mean of the training input data: [-0.  0.  0.  0. -0.  0. -0. -0. -0.  0.  0.  0. -0.]\n",
      "Std of the training input data: [1. 1. 1. 1. 1. 1. 1. 1. 1. 1. 1. 1. 1.]\n",
      "Mean of the test input data: [-0.08119001 -0.03284647  0.1002241  -0.1228683   0.01952694  0.12706616\n",
      "  0.0578048  -0.04626309 -0.00250851  0.03915802  0.01524003  0.00985282\n",
      "  0.01027508]\n",
      "Std of the test input data: [0.61278543 0.88382257 1.04976393 0.77747579 0.96538938 0.96889616\n",
      " 1.03219142 0.99174282 0.99031277 0.99830074 1.0452177  0.98878743\n",
      " 0.98846949]\n"
     ]
    }
   ],
   "source": [
    "# scale the data\n",
    "\n",
    "# standardize the input matrix\n",
    "from sklearn import preprocessing\n",
    "# the transformation is computed on training data and then used on all the 3 sets\n",
    "scaler = preprocessing.StandardScaler().fit(X_training) \n",
    "\n",
    "np.set_printoptions(suppress=True) # sets to zero floating point numbers < min_float_eps\n",
    "X_training = scaler.transform(X_training)\n",
    "print (\"Mean of the training input data:\", X_training.mean(axis=0))\n",
    "print (\"Std of the training input data:\",X_training.std(axis=0))\n",
    "\n",
    "X_test = scaler.transform(X_test) # use the same transformation on test data\n",
    "print (\"Mean of the test input data:\", X_test.mean(axis=0))\n",
    "print (\"Std of the test input data:\", X_test.std(axis=0))"
   ]
  },
  {
   "cell_type": "markdown",
   "metadata": {},
   "source": [
    "# Model Training \n",
    "\n",
    "The model is trained (= estimated) minimizing the empirical error\n",
    "$$\n",
    "L_S(h) := \\frac{1}{m_t} \\sum_{z_i \\in S_{t}} \\ell(h,z_i)\n",
    "$$\n",
    "When the loss function is the quadratic loss\n",
    "$$\n",
    "\\ell(h,z) := (y - h(x))^2\n",
    "$$\n",
    "we define  the Residual Sum of Squares (RSS) as\n",
    "$$\n",
    "RSS(h):= \\sum_{z_i \\in S_{t}} \\ell(h,z_i) = \\sum_{z_i \\in S_{t}} (y_i - h(x_i))^2\n",
    "$$ so that the training error becomes\n",
    "$$\n",
    "L_S(h) = \\frac{RSS(h)}{m_t}\n",
    "$$\n",
    "\n",
    "We recal that, for linear models we have $h(x) = <w,x>$ and the Empirical error $L_S(h)$ can be written\n",
    "in terms of the vector of parameters $w$ in the form\n",
    "$$\n",
    "L_S(w) = \\frac{1}{m_t} \\|Y - X w\\|^2\n",
    "$$\n",
    "where $Y$ and $X$ are the matrices whose $i-$th row are, respectively, the output data $y_i$ and the input vectors $x_i^\\top$.\n",
    "\n",
    "\n",
    " **TO DO:** compute the linear regression coefficients using np.linalg.lstsq from scikitlear \n",
    " "
   ]
  },
  {
   "cell_type": "code",
   "execution_count": 23,
   "metadata": {},
   "outputs": [
    {
     "name": "stdout",
     "output_type": "stream",
     "text": [
      "LS coefficients with numpy lstsq: [225.5        -11.1236448   14.12810367   3.86276935   6.0545499\n",
      " -26.03861529  18.52720767   5.31593615 -34.40890845  28.24846683\n",
      " -22.45700097 -22.04698289   7.46620067 -43.19967356]\n",
      "\n",
      "RSS with numpy lstsq: [830589.09928624]\n",
      "RSS by hand: [830589.09928624]\n",
      "Empirical risk with numpy lstsq: [2373.11171225]\n",
      "\n",
      "Measure on training data by hand: 0.2863397822521263\n"
     ]
    },
    {
     "name": "stderr",
     "output_type": "stream",
     "text": [
      "/tmp/ipykernel_4981/474702769.py:13: FutureWarning: `rcond` parameter will change to the default of machine precision times ``max(M, N)`` where M and N are the input matrix dimensions.\n",
      "To use the future default and silence this warning we advise to pass `rcond=None`, to keep using the old, explicitly pass `rcond=-1`.\n",
      "  w_np, RSStr_np, rank_Xtr, sv_Xtr =  np.linalg.lstsq(X_trainingH, Y_training)\n"
     ]
    }
   ],
   "source": [
    "# compute linear regression coefficients for training data\n",
    "\n",
    "# add a 1 at the beginning of each sample for training, and testing (use homogeneous coordinates)\n",
    "m_training = X_training.shape[0]\n",
    "# H: in homogeneous coordinates\n",
    "X_trainingH = np.hstack((np.ones((m_training,1)),X_training))\n",
    "\n",
    "m_test = X_test.shape[0]\n",
    "# H: in homogeneous coordinates\n",
    "X_testH = np.hstack((np.ones((m_test,1)),X_test))\n",
    "\n",
    "# compute the least-squares coefficients using linalg.lstsq\n",
    "w_np, RSStr_np, rank_Xtr, sv_Xtr =  np.linalg.lstsq(X_trainingH, Y_training)\n",
    "print(\"LS coefficients with numpy lstsq:\", w_np)\n",
    "\n",
    "# compute Residual sums of squares \n",
    "RSStr_hand = np.zeros(1)\n",
    "for i in range(X_trainingH.shape[0]):\n",
    "    RSStr_hand += (np.dot(w_np,X_trainingH[i])-Y_training[i])**2\n",
    "\n",
    "print(\"\\nRSS with numpy lstsq:\", RSStr_np)\n",
    "print(\"RSS by hand:\", RSStr_hand)\n",
    "print(\"Empirical risk with numpy lstsq:\", RSStr_np/m_training)\n",
    "\n",
    "# return the coefficient of determination of the prediction R_squared\n",
    "def numpy_linreg_score(x, y, coefH):\n",
    "    u = 0\n",
    "    for i in range(y.shape[0]):\n",
    "        u += (y[i] - np.dot(coefH,x[i]))**2\n",
    "    y_mean = np.mean(y)\n",
    "    v = 0\n",
    "    for i in range(y.shape[0]):\n",
    "        v += (y[i] - y_mean)**2\n",
    "    return 1-(u/v)\n",
    "              \n",
    "R_squared = numpy_linreg_score(X_trainingH, Y_training, w_np)\n",
    "print(\"\\nMeasure on training data by hand:\", 1 - R_squared)"
   ]
  },
  {
   "cell_type": "markdown",
   "metadata": {},
   "source": [
    "## Data prediction \n",
    "\n",
    "Compute the output predictions on both training and test set and compute the Residual Sum of Squares (RSS). \n",
    "\n",
    "**TO DO**: Compute these quantities on  training and test sets."
   ]
  },
  {
   "cell_type": "code",
   "execution_count": 24,
   "metadata": {},
   "outputs": [
    {
     "name": "stdout",
     "output_type": "stream",
     "text": [
      "Example of percentage accuracy on test predictions: [0.1579329386455144, 0.31088399402456457, 0.014197983506636817, 0.14063962275892633, 0.11553821328580145]\n",
      "\n",
      "RSS on test data: [285168.40045413]\n",
      "Loss estimated from test data: [1901.12266969]\n",
      "\n",
      "Measure on test data by hand: 0.2103577255494795\n"
     ]
    }
   ],
   "source": [
    "# compute predictions on training and test\n",
    "prediction_training = np.array([np.dot(w_np,X_trainingH[i]) for i in range(X_trainingH.shape[0])])\n",
    "prediction_test = np.array([np.dot(w_np,X_testH[i]) for i in range(X_testH.shape[0])])\n",
    "\n",
    "# check prediction on test\n",
    "accuracy = [abs(Y_test[i] - prediction_test[i])/Y_test[i] for i in range(Y_test.shape[0])]\n",
    "print(\"Example of percentage accuracy on test predictions:\", accuracy[:5])\n",
    "\n",
    "# what about the loss for points in the test data?\n",
    "RSS_test = np.zeros(1)\n",
    "for i in range(X_testH.shape[0]):\n",
    "    RSS_test += (np.dot(w_np,X_testH[i])-Y_test[i])**2\n",
    "\n",
    "print(\"\\nRSS on test data:\",  RSS_test)\n",
    "print(\"Loss estimated from test data:\", RSS_test/m_test)\n",
    "\n",
    "R_squared = numpy_linreg_score(X_testH, Y_test, w_np)\n",
    "print(\"\\nMeasure on test data by hand:\", 1 - R_squared)"
   ]
  },
  {
   "cell_type": "markdown",
   "metadata": {},
   "source": [
    "### QUESTION 4: Comment on the results you get and on the difference between the train and test errors.\n",
    "\n",
    "The train error is usually larger than the training error but again the result depends on the seed used for generating the permutations. A larger dataset could lead to a better and more stable result."
   ]
  },
  {
   "cell_type": "markdown",
   "metadata": {},
   "source": [
    "## Ordinary Least-Squares using scikit-learn\n",
    "Another fast way to compute the LS estimate is through sklearn.linear_model (for this function homogeneous coordinates are not needed)."
   ]
  },
  {
   "cell_type": "code",
   "execution_count": 26,
   "metadata": {},
   "outputs": [
    {
     "name": "stdout",
     "output_type": "stream",
     "text": [
      "Intercept: 225.50000000000034\n",
      "Least-Squares Coefficients: [-11.1236448   14.12810367   3.86276935   6.0545499  -26.03861529\n",
      "  18.52720767   5.31593615 -34.40890845  28.24846683 -22.45700097\n",
      " -22.04698289   7.46620067 -43.19967356]\n",
      "\n",
      "Measure on training data by hand: 0.2863397822521261\n",
      "Measure on training data: 0.2863397822521261\n",
      "\n",
      "Measure on training data by hand: 0.21035772554947985\n",
      "Measure on test data: 0.21035772554948007\n"
     ]
    }
   ],
   "source": [
    "from sklearn import linear_model\n",
    "\n",
    "# build the LinearRegression() model and train it\n",
    "LinReg = linear_model.LinearRegression()\n",
    "\n",
    "LinReg.fit(X_training,Y_training)\n",
    "print(\"Intercept:\", LinReg.intercept_)\n",
    "print(\"Least-Squares Coefficients:\", LinReg.coef_)\n",
    "\n",
    "# predict output values on training and test sets\n",
    "\n",
    "# return the coefficient of determination of the prediction R_squared implemented by hand\n",
    "def sklearn_linreg_score(x, y, coef, intercept):\n",
    "    u = 0\n",
    "    for i in range(y.shape[0]):\n",
    "        u += (y[i] - (np.dot(coef,x[i]) + intercept))**2\n",
    "    y_mean = np.mean(y)\n",
    "    v = 0\n",
    "    for i in range(y.shape[0]):\n",
    "        v += (y[i] - y_mean)**2\n",
    "    return 1-(u/v)\n",
    "\n",
    "LinReg.predict(X_training)\n",
    "R_squared = sklearn_linreg_score(X_training, Y_training, LinReg.coef_, LinReg.intercept_)    \n",
    "# return a prediction score based on the coefficient of determination\n",
    "print(\"\\nMeasure on training data by hand:\", 1 - R_squared)\n",
    "print(\"Measure on training data:\", 1 - LinReg.score(X_training, Y_training))\n",
    "\n",
    "LinReg.predict(X_test)\n",
    "R_squared = sklearn_linreg_score(X_test, Y_test, LinReg.coef_, LinReg.intercept_) \n",
    "# return a prediction score based on the coefficient of determination\n",
    "print(\"\\nMeasure on training data by hand:\", 1 - R_squared)\n",
    "print(\"Measure on test data:\", 1 - LinReg.score(X_test, Y_test))"
   ]
  }
 ],
 "metadata": {
  "anaconda-cloud": {},
  "kernelspec": {
   "display_name": "Python 3 (ipykernel)",
   "language": "python",
   "name": "python3"
  },
  "language_info": {
   "codemirror_mode": {
    "name": "ipython",
    "version": 3
   },
   "file_extension": ".py",
   "mimetype": "text/x-python",
   "name": "python",
   "nbconvert_exporter": "python",
   "pygments_lexer": "ipython3",
   "version": "3.8.8"
  }
 },
 "nbformat": 4,
 "nbformat_minor": 4
}
